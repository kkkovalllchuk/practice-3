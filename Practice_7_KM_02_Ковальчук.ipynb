{
  "nbformat": 4,
  "nbformat_minor": 0,
  "metadata": {
    "colab": {
      "name": "Practice_7_KM-01_.ipynb",
      "provenance": [],
      "collapsed_sections": []
    },
    "kernelspec": {
      "name": "python3",
      "display_name": "Python 3"
    }
  },
  "cells": [
    {
      "cell_type": "markdown",
      "metadata": {
        "id": "FMqboNwO4rVs"
      },
      "source": [
        "# **Курс \"Програмування на мові Python\"**\n",
        "\n",
        "##### Викладачі:\n",
        "##### Борисенко Павло Борисович\n",
        "##### Щьоголєв Максим Олегович\n"
      ]
    },
    {
      "cell_type": "markdown",
      "metadata": {
        "id": "A2T6MigL5Z06"
      },
      "source": [
        "## **Практичне зайняття №7**\n",
        "\n",
        "### Тема: \"Перевірка даних. Робота з виключеннями. Регулярні вирази\""
      ]
    },
    {
      "cell_type": "markdown",
      "metadata": {
        "id": "cfCdgK2zXm7e"
      },
      "source": [
        "### **Завдання 1 (1,5 бали)**\n",
        "\n",
        "Переробити завдання №1 практичної роботи №6 з використанням регулярних виразів.\n",
        "\n",
        "1. Створити шаблон регулярного виразу.\n",
        "\n",
        "2. За допомогою функції compile() створити об'єкт регулярного виразу.\n",
        "\n",
        "3. Всі інші вимоги залишаються такими ж, як і в оригінальному завданні."
      ]
    },
    {
      "cell_type": "code",
      "metadata": {
        "id": "ifNX2M7LXm7f"
      },
      "source": [
        "import re\n",
        "\n",
        "pose_estimation = r\"[BodyPart:0- (0.55,0.17) score= 0.81 BodyPart:1- (0.49,0.27) score= 0.85 BodyPart:2- (0.41,0.26) score= 0.67 BodyPart:3- (0.33,0.37) score= 0.72 BodyPart:4- (0.36,0.48) score= 0.78 BodyPart:5- (0.58,0.27) score= 0.81 BodyPart:6- (0.65,0.38) score= 0.88 BodyPart:7- (0.62,0.48) score= 0.86 BodyPart:8- (0.43,0.48) score= 0.60 BodyPart:9- (0.43,0.66) score= 0.67 BodyPart:10- (0.53,0.79) score= 0.56 BodyPart:11- (0.53,0.48) score= 0.56 BodyPart:12- (0.59,0.66) score= 0.75 BodyPart:13- (0.49,0.80) score= 0.50 BodyPart:14- (0.54,0.15) score= 0.73 BodyPart:15- (0.56,0.15) score= 0.85 BodyPart:16- (0.48,0.16) score= 0.81 BodyPart:17- (0.83,0.18) score= 0.79 ] \"\n",
        "pattern = re.compile(\"BodyPart\")\n",
        "result = pattern.findall(\"BodyPart\")\n",
        "print(result)\n",
        "\n",
        "\n",
        "s = pose_estimation.split( )\n",
        "while True:\n",
        "    while True:\n",
        "        try:\n",
        "            a = int(input(\"Введіть кількість розпізнаних точок:\"))\n",
        "            break\n",
        "        except ValueError:\n",
        "            print(\"Введено невірно. Введіть значення числом!!!\")\n",
        "\n",
        "    if 0<=a<=7:\n",
        "        print(\"points= \",*s[1:27:4],sep =\",\")\n",
        "        print(\"scores=\",*s[3:29:4] ,sep =\";\")\n",
        "                \n",
        "    elif 7<a<15:\n",
        "        print(\"points=\",*s[1:59:4],sep =\",\")\n",
        "        print(\"scores=\",*s[3:61:4],sep =\";\") \n",
        "                    \n",
        "    elif 15<a<=18:\n",
        "        print(\"points=\",*s[1:71:4],sep =\",\")\n",
        "        print(\"scores=\",*s[3:73:4],sep =\";\") \n",
        "    elif a>18:\n",
        "        break\n",
        "        \n",
        "\n",
        "\n",
        "\n",
        "\n",
        "    print(\"Спробувати ще раз?Так\\Ні?\")\n",
        "\n",
        "\n",
        "    while True:\n",
        "        ans = input()\n",
        "        if ans == \"Так\" or ans == \"Ні\":\n",
        "            break\n",
        "        else:\n",
        "            print(\" Введіть Так або Ні.\")\n",
        "    if ans == \"Ні\":\n",
        "        print(\"До побачення!\")\n",
        "        break\n",
        "\n",
        "\n"
      ],
      "execution_count": 2,
      "outputs": []
    },
    {
      "cell_type": "markdown",
      "metadata": {
        "id": "M1Sg0vXJXm7n"
      },
      "source": [
        "### **Завдання 2 (1,5 бали)**\n",
        "\n",
        "Написати програму підрахунку коренів квадратного рівняння без попередніх перевірок.\n",
        "\n",
        "1. Користувач має вводити коефіцієнти a, b та c з клавіатури.\n",
        "\n",
        "2. Програма має обробляти помилки ділення на 0, кореня від'ємного числа та інші, а також виводити відповідні повідомлення у разі виникнення таких помилок.\n",
        "\n",
        "3. Якщо рівняння не має коренів, программа має генерувати помилку за допомогою ключового слова raise, а потім обробляти її.\n",
        "\n",
        "4. Правильно написана програма при виникненні різних помилок має виводити текст помилки, а також різні повідомлення про те, в чому суть цих помилок. Необроблених помилок бути не повинно."
      ]
    },
    {
      "cell_type": "code",
      "metadata": {
        "id": "co7fcAuvXm7o"
      },
      "source": [
        "import math\n",
        "\n",
        "print(\"Введите коэффициенты для уравнения\")\n",
        "print(\"ax^2 + bx + c = 0:\")\n",
        "a = float(input(\"a = \"))\n",
        "b = float(input(\"b = \"))\n",
        "c = float(input(\"c = \"))\n",
        "\n",
        "try:\n",
        "    discr = b ** 2 - 4 * a * c\n",
        "    print(\"Дискриминант D = %.2f\" % discr)\n",
        "\n",
        "    if discr > 0:\n",
        "        x1 = (-b + math.sqrt(discr)) / (2 * a)\n",
        "        x2 = (-b - math.sqrt(discr)) / (2 * a)\n",
        "        print(\"x1 = %.2f \\nx2 = %.2f\" % (x1, x2))\n",
        "    elif discr == 0:\n",
        "        x = -b / (2 * a)\n",
        "        print(\"x = %.2f\" % x)\n",
        "    else:\n",
        "        raise ValueError('Не додатній дискримінант.Рівнянння немає коренів.Спробуйте ввести інші цифри.')\n",
        "    print('Everything is OK!')\n",
        "except ValueError as ve:\n",
        "    print(ve)\n",
        "    raise\n",
        "\n",
        "  \n",
        "\n",
        "except ZeroDivisionError:\n",
        "    print(\"Змінна а не може дорівнювати 0.\")        \n",
        "except ArithmeticError:\n",
        "    print(\"Виникла арифметична помилка.\")\n",
        "except ValueError:\n",
        "    print(\"Ви ввели не дійсне число.Спробуйте ще раз\") \n",
        "except ImportError:\n",
        "    print(\"Виникли проблеми при імпортуванні бібліотеки.\")\n",
        "except NameError:\n",
        "    print(\"Локальне чи глобальне ім`я не знайдене.\")\n"
      ],
      "execution_count": 4,
      "outputs": []
    }
  ]
}