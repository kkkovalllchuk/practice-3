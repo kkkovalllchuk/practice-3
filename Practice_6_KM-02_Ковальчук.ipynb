{
  "nbformat": 4,
  "nbformat_minor": 0,
  "metadata": {
    "colab": {
      "name": "Practice_6.ipynb",
      "provenance": [],
      "collapsed_sections": [
        "LyWSBl0DOxJ8",
        "5qzvb1n_va3D",
        "fRXqCrBOmwAX"
      ]
    },
    "kernelspec": {
      "name": "Python 3.8.5 32-bit",
      "display_name": "Python 3.8.5 32-bit",
      "metadata": {
        "interpreter": {
          "hash": "f4f3c55181ff8592e16d9c97215b2f01c78a625d6319833ef1e7b3d7fec4178c"
        }
      }
    }
  },
  "cells": [
    {
      "cell_type": "markdown",
      "metadata": {
        "id": "FMqboNwO4rVs"
      },
      "source": [
        "# **Курс \"Програмування на мові Python\"**\n",
        "\n",
        "##### Викладачі:\n",
        "##### Борисенко Павло Борисович\n",
        "##### Щьоголєв Максим Олегович\n"
      ]
    },
    {
      "cell_type": "markdown",
      "metadata": {
        "id": "A2T6MigL5Z06"
      },
      "source": [
        "## **Практичне зайняття №6**\n",
        "\n",
        "### Тема: \"Робота з рядками. Глибокі копії об'єктів.\""
      ]
    },
    {
      "source": [
        "### **Завдання 1 (2,5 бали)**\n",
        "\n",
        "Модель tf-pose-estimation (https://github.com/ildoonet/tf-pose-estimation) призначена для розпізнавання 18 ключових точок на тілі людини. Кожна точка розпізнається з певною достовірністю, що вимірюється у відсотках. Модель виводить результати у вигляді рядка:\n",
        "\n",
        "```\n",
        "[BodyPart:0-(0.55, 0.17) score=0.81 BodyPart:1-(0.49, 0.27) score=0.85 BodyPart:2-(0.41, 0.26) score=0.67 \n",
        "BodyPart:3-(0.33, 0.37) score=0.72 BodyPart:4-(0.36, 0.48) score=0.78 BodyPart:5-(0.58, 0.27) score=0.81 \n",
        "BodyPart:6-(0.65, 0.38) score=0.88 BodyPart:7-(0.62, 0.48) score=0.86 BodyPart:8-(0.43, 0.48) score=0.60 \n",
        "BodyPart:9-(0.43, 0.66) score=0.67 BodyPart:10-(0.53, 0.79) score=0.56 BodyPart:11-(0.53, 0.48) score=0.56 \n",
        "BodyPart:12-(0.59, 0.66) score=0.75 BodyPart:13-(0.49, 0.80) score=0.50 BodyPart:14-(0.54, 0.15) score=0.73 \n",
        "BodyPart:15-(0.56, 0.15) score=0.85 BodyPart:16-(0.48, 0.16) score=0.81 BodyPart:17-(0.83, 0.18) score=0.79]\n",
        "```\n",
        "\n",
        "Написати програму, яка створюватиме два списки, points та scores. В першому мають послідовно зберігатися координати точок, в другому - їхні достовірності (scores). Для поданого рядка списки матимуть вигляд:\n",
        "\n",
        "```\n",
        "points = [0.55,0.17,0.49,0.27,0.41,0.26,0.33,0.37,0.36,0.48,0.58,0.27,0.65,0.38,0.62,0.48,0.43,0.48,\n",
        "0.43,0.66,0.53,0.79,0.53,0.48,0.59,0.66,0.49,0.80,0.54,0.15,0.56,0.15,0.48,0.16,0.83,0.18]\n",
        "scores = [0.81,0.85,0.67,0.72,0.78,0.81,0.88,0.86,0.60,0.67,0.56,0.56,0.75,0.50,0.73,0.85,0.81,0.79]\n",
        "```\n",
        "\n",
        "1. Кількість розпізнаних точок може коливатись у межах від 0 до 18.\n",
        "\n",
        "2. Під час оцінювання коду враховуватиметься його оптимальність.\n",
        "\n",
        "3. У змінній pose_estimation зберігається тестовий рядок. Для перевірки роботи можуть використовуватись інші рядки такого ж формату."
      ],
      "cell_type": "markdown",
      "metadata": {}
    },
    {
      "cell_type": "code",
      "execution_count": 2,
      "metadata": {},
      "outputs": [
        {
          "output_type": "stream",
          "name": "stdout",
          "text": [
            "points=,(0.55,0.17),(0.49,0.27),(0.41,0.26),(0.33,0.37),(0.36,0.48),(0.58,0.27),(0.65,0.38),(0.62,0.48),(0.43,0.48),(0.43,0.66),(0.53,0.79),(0.53,0.48),(0.59,0.66),(0.49,0.80),(0.54,0.15)\n",
            "scores=;0.81;0.85;0.67;0.72;0.78;0.81;0.88;0.86;0.60;0.67;0.56;0.56;0.75;0.50;0.73\n",
            "Спробувати ще раз?Так\\Ні?\n",
            "points= ,(0.55,0.17),(0.49,0.27),(0.41,0.26),(0.33,0.37),(0.36,0.48),(0.58,0.27),(0.65,0.38)\n",
            "scores=;0.81;0.85;0.67;0.72;0.78;0.81;0.88\n",
            "Спробувати ще раз?Так\\Ні?\n",
            " Введіть Так або Ні.\n",
            " Введіть Так або Ні.\n",
            " Введіть Так або Ні.\n",
            "До побачення!\n"
          ]
        }
      ],
      "source": [
        "pose_estimation =  \"[BodyPart:0- (0.55,0.17) score= 0.81 BodyPart:1- (0.49,0.27) score= 0.85 BodyPart:2- (0.41,0.26) score= 0.67 BodyPart:3- (0.33,0.37) score= 0.72 BodyPart:4- (0.36,0.48) score= 0.78 BodyPart:5- (0.58,0.27) score= 0.81 BodyPart:6- (0.65,0.38) score= 0.88 BodyPart:7- (0.62,0.48) score= 0.86 BodyPart:8- (0.43,0.48) score= 0.60 BodyPart:9- (0.43,0.66) score= 0.67 BodyPart:10- (0.53,0.79) score= 0.56 BodyPart:11- (0.53,0.48) score= 0.56 BodyPart:12- (0.59,0.66) score= 0.75 BodyPart:13- (0.49,0.80) score= 0.50 BodyPart:14- (0.54,0.15) score= 0.73 BodyPart:15- (0.56,0.15) score= 0.85 BodyPart:16- (0.48,0.16) score= 0.81 BodyPart:17- (0.83,0.18) score= 0.79 ] \"\n",
        "s = pose_estimation.split( )\n",
        "while True:\n",
        "    while True:\n",
        "        try:\n",
        "            a = int(input(\"Введіть кількість розпізнаних точок:\"))\n",
        "            break\n",
        "        except ValueError:\n",
        "            print(\"Введено невірно. Введіть значення числом!!!\")\n",
        "\n",
        "    if 0<=a<=7:\n",
        "        print(\"points= \",*s[1:27:4],sep =\",\")\n",
        "        print(\"scores=\",*s[3:29:4] ,sep =\";\")\n",
        "                \n",
        "    elif 7<a<15:\n",
        "        print(\"points=\",*s[1:59:4],sep =\",\")\n",
        "        print(\"scores=\",*s[3:61:4],sep =\";\") \n",
        "                    \n",
        "    elif 15<a<=18:\n",
        "        print(\"points=\",*s[1:71:4],sep =\",\")\n",
        "        print(\"scores=\",*s[3:73:4],sep =\";\") \n",
        "    elif a>18:\n",
        "        break\n",
        "        \n",
        "\n",
        "\n",
        "\n",
        "\n",
        "    print(\"Спробувати ще раз?Так\\Ні?\")\n",
        "\n",
        "\n",
        "    while True:\n",
        "        ans = input()\n",
        "        if ans == \"Так\" or ans == \"Ні\":\n",
        "            break\n",
        "        else:\n",
        "            print(\" Введіть Так або Ні.\")\n",
        "    if ans == \"Ні\":\n",
        "        print(\"До побачення!\")\n",
        "        break"
      ]
    },
    {
      "source": [
        "### **Завдання 2 (0,5 бал)**\n",
        "\n",
        "Створіть рядок формату, що дозволить отримати дані з кортежу format_tuple та вивести рядок:\n",
        "\n",
        "```\n",
        "The initial lot price of $358.4 at the Liverpool auction exceeded the expected price by 21%, \n",
        "but the lot with number 0134 was nevertheless sold for $845.\n",
        "```\n",
        "\n",
        "У рядку формату мають бути 7 заповнювачів. Кортеж format_list в процесі роботи змінювани не можна."
      ],
      "cell_type": "markdown",
      "metadata": {}
    },
    {
      "cell_type": "code",
      "execution_count": 6,
      "metadata": {},
      "outputs": [
        {
          "output_type": "stream",
          "name": "stdout",
          "text": [
            "The initial lot price of $ 358.4 at the Liverpool auction exceeded the expected price by 21 %, but the lot with number 0 134 was nevertheless sold for $ 845\n"
          ]
        }
      ],
      "source": [
        "format_tuple = ('Liverpool', 845.15, 21, 134, 358.45, 'price')\n",
        "a = list(format_tuple)\n",
        "print(\"The initial lot\",a[5] ,\"of $\",round(a[4],1),\"at the\", a[0], \"auction exceeded the expected\",a[5], \"by\", a[2],\"%, but the lot with number 0\",a[3], \"was nevertheless sold for $\",round(a[1]))"
      ]
    },
    {
      "cell_type": "code",
      "execution_count": null,
      "metadata": {},
      "outputs": [],
      "source": []
    }
  ]
}