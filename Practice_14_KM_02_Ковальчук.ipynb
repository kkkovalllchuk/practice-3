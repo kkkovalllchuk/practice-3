{
  "nbformat": 4,
  "nbformat_minor": 0,
  "metadata": {
    "colab": {
      "name": "Practice_14_KM_01.ipynb",
      "provenance": [],
      "collapsed_sections": []
    },
    "kernelspec": {
      "name": "python3",
      "display_name": "Python 3.8.5 32-bit",
      "metadata": {
        "interpreter": {
          "hash": "f4f3c55181ff8592e16d9c97215b2f01c78a625d6319833ef1e7b3d7fec4178c"
        }
      }
    }
  },
  "cells": [
    {
      "cell_type": "markdown",
      "metadata": {
        "id": "FMqboNwO4rVs"
      },
      "source": [
        "# **Курс \"Програмування на мові Python\"**\n",
        "\n",
        "##### Викладачі:\n",
        "##### Борисенко Павло Борисович\n",
        "##### Щьоголєв Максим Олегович\n"
      ]
    },
    {
      "cell_type": "markdown",
      "metadata": {
        "id": "A2T6MigL5Z06"
      },
      "source": [
        "## **Практичне зайняття №14**\n",
        "\n",
        "### Тема: \"Робота з файлами\""
      ]
    },
    {
      "cell_type": "markdown",
      "metadata": {
        "id": "cfCdgK2zXm7e"
      },
      "source": [
        "### **Завдання 1 (1,5 бали)**\n",
        "\n",
        "У 1939 році друком вийшов роман американського письменика Ернеста Вінсента Райта \"Ґедсбі\". Особливу увагу публіки він здобув через те, що письменник жодного разу не використав у романі літеру \"e\" (роман складається з більше ніж 50,000 слів), яка є найбільш вживаною літерою в англійській мові.\n",
        "\n",
        "Порахуйте кількість входжень кожної літери у текст роману. Виведіть список літер англійського алфавіту, а також інформацію про те, скільки відсотків від усіх літер тексту складає кожна літера алфавіту.\n",
        "\n",
        "Зауваження:\n",
        "\n",
        "1. Програма має ігнорувати будь-які символи, окрім літер.\n",
        "\n",
        "2. Переведіть усі літери у верхній або у нижній регістр.\n",
        "\n",
        "3. Під час виведення відсортуйте літери у порядку зменшення їхнього відсотка. Літера \"e\" має стояти на останньому місці у цьому списку.\n",
        "\n",
        "4. Виведіть перші 5 та останні 5 літер відсортованого списку разом з відсотковими значеннями, що їм відповідають."
      ]
    },
    {
      "cell_type": "code",
      "metadata": {
        "tags": [],
        "id": "u4-fHJJ6U462"
      },
      "source": [
        "alph = ['a', 'b', 'c', 'd', 'e', 'f', 'g', 'h', 'i', 'j', 'k', 'l', 'm', 'n', 'o', 'p', 'q', 'r', 's', 't', 'u', 'v', 'w', 'x', 'y', 'z']\n",
        "list_ = []\n",
        "sum = 0\n",
        "\n",
        "\n",
        "for i in alph:\n",
        "    amount = 0\n",
        "    file = open(\"gadsby.txt\")\n",
        "    for f in file:\n",
        "        f = f.lower()\n",
        "        amount += f.count(i)\n",
        "    list_.append(amount)\n",
        "    sum += amount\n",
        "    file.close()\n",
        "\n",
        "list_of_percents = []\n",
        "for i in range(len(list_)):\n",
        "    percents = round(list_[i] * 100 / sum, 2)\n",
        "    list_of_percents.append(percents)\n",
        "\n",
        "for i in range(0, 26):\n",
        "    sorted1 = sorted(list_of_percents, reverse=True)\n",
        "    g = list_of_percents.index(sorted1[i])\n",
        "    print(f\"{alph[g]} == {sorted1[i]} %\")"
      ],
      "execution_count": 1,
      "outputs": [
        {
          "output_type": "stream",
          "name": "stdout",
          "text": [
            "a == 10.89 %\no == 10.37 %\ni == 8.79 %\nn == 8.56 %\nt == 8.53 %\ns == 6.96 %\nl == 5.29 %\nh == 4.92 %\nr == 4.79 %\nu == 4.13 %\nd == 4.11 %\ng == 3.57 %\ny == 3.17 %\nw == 2.79 %\nc == 2.67 %\nf == 2.15 %\nb == 2.13 %\nm == 2.09 %\np == 1.91 %\nk == 1.17 %\nv == 0.34 %\ne == 0.23 %\nj == 0.22 %\nz == 0.11 %\nx == 0.08 %\nq == 0.05 %\n"
          ]
        }
      ]
    },
    {
      "cell_type": "markdown",
      "metadata": {
        "id": "A34oz70eU463"
      },
      "source": [
        "### **Завдання 2 (1,5 бали)**\n",
        "\n",
        "Створіть CSV-файл, що буде містити від 5 до 10 пісень (творів) вашого улюбленого музиканта. Назва файлу - ім'я музиканта (композитора) або назва гурту.\n",
        "\n",
        "1. Обов'язково додайте до файлу рядок з назвами двох колонок (Song, Year) або (Composition, Year).\n",
        "\n",
        "2. Після запису файлу роздрукуйте назву файлу та усі наявні у файлі рядки (включно із заголовками).\n",
        "\n",
        "3. Для запису та зчитування рядків скористайтесь функціями csv.DictWriter() та csv.DictReader()."
      ]
    },
    {
      "cell_type": "code",
      "metadata": {
        "id": "MEJIrG1GU463"
      },
      "source": [
        "import csv\n",
        "with open('The Weeknd.csv', 'w', newline='') as csvfile:\n",
        "    fieldnames = ['Song', 'Year']\n",
        "    writer = csv.DictWriter(csvfile, fieldnames=fieldnames)\n",
        "    writer.writeheader()\n",
        "    writer.writerow({'Song': 'All I Know',\n",
        "                     'Year': '2016'})\n",
        "    writer.writerow({'Song': 'Six Feet Under',\n",
        "                     'Year': '2016'})\n",
        "    writer.writerow({'Song': 'Sidewalks',\n",
        "                     'Year': '2016'})\n",
        "    writer.writerow({'Song': 'The Hills',\n",
        "                     'Year': '2017'})\n",
        "    writer.writerow({'Song': 'Call Out My Name',\n",
        "                     'Year': '2018'})\n",
        "    writer.writerow({'Song': 'Blinding Lights',\n",
        "                     'Year': '2020'})\n",
        "    writer.writerow({'Song': 'In Your Eyes',\n",
        "                     'Year': '2020'})\n",
        "\n",
        "with open('The Weeknd.csv', newline='') as f:  \n",
        "    reader = csv.DictReader(f) \n",
        "    for i in reader.fieldnames:\n",
        "        print(i, end=' ')\n",
        "    print('\\n------------------------------')\n",
        "    for row in reader:\n",
        "        print(row['Song'],'---' ,row['Year'])"
      ],
      "execution_count": 2,
      "outputs": [
        {
          "output_type": "stream",
          "name": "stdout",
          "text": [
            "Song Year \n------------------------------\nAll I Know --- 2016\nSix Feet Under --- 2016\nSidewalks --- 2016\nThe Hills --- 2017\nCall Out My Name --- 2018\nBlinding Lights --- 2020\nIn Your Eyes --- 2020\n"
          ]
        }
      ]
    },
    {
      "cell_type": "markdown",
      "metadata": {
        "id": "Jb-eSBsWU464"
      },
      "source": [
        "### **Завдання 3 (бонусне, 1 бал)**\n",
        "\n",
        "COCO Dataset - набір фотографій та анотацій до них. Його дуже часто використовують для тренування класифікаторів, призначених для розпізнавання об'єктів та визначення ключових точок на зображеннях.\n",
        "\n",
        "Завантажте файли з описом фотографій COCO Dataset за посиланням: http://images.cocodataset.org/annotations/image_info_test2017.zip\n",
        "\n",
        "1. Відкрийте файл image_info_test-dev2017.json. Інформація про фотографії з бази COCO міститься у полі \"images\". Інформація про категорії, на які розділені всі фотографії, міститься у полі \"categories\".\n",
        "\n",
        "2. Визначте кількість фотографій, інформацію про які можна знайти у цьому файлі (кількість елементів, що відповідають ключу \"images\").\n",
        "\n",
        "3. Визначте кількість наявних категорій (кількість елементів, що відповідають ключу \"categories\").\n",
        "\n",
        "4. Виведіть посилання на фотографію 000000000001.jpg (\"coco_url\"), висоту цієї фотографії (\"height\"), ширину (\"width\") та її ідентифікатор (\"id\").\n",
        "\n",
        "5. Опис структури JSON-файлу для набору фотографій COCO можна знайти за посиланням: https://cocodataset.org/#format-data\n",
        "\n",
        "6. Щоб перевірити правильність результатів, у VS Code встановіть розширення JSON та відкрийте файл image_info_test-dev2017.json. Розширення автоматично визначає кількість елементів у кожному полі."
      ]
    },
    {
      "cell_type": "code",
      "metadata": {
        "id": "74C6WKB_U464"
      },
      "source": [],
      "execution_count": null,
      "outputs": []
    }
  ]
}